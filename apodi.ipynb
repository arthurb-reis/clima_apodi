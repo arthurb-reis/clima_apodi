{
  "nbformat": 4,
  "nbformat_minor": 0,
  "metadata": {
    "colab": {
      "provenance": [],
      "authorship_tag": "ABX9TyOsb3uSM56zTvrZz0DLwLya",
      "include_colab_link": true
    },
    "kernelspec": {
      "name": "ir",
      "display_name": "R"
    },
    "language_info": {
      "name": "R"
    }
  },
  "cells": [
    {
      "cell_type": "markdown",
      "metadata": {
        "id": "view-in-github",
        "colab_type": "text"
      },
      "source": [
        "<a href=\"https://colab.research.google.com/github/arthurb-reis/clima_apodi/blob/main/apodi.ipynb\" target=\"_parent\"><img src=\"https://colab.research.google.com/assets/colab-badge.svg\" alt=\"Open In Colab\"/></a>"
      ]
    },
    {
      "cell_type": "code",
      "execution_count": null,
      "metadata": {
        "id": "azEb60G9cnoX"
      },
      "outputs": [],
      "source": [
        "# Carregar pacotes necessários\n",
        "library(ggplot2)\n",
        "library(dplyr)\n",
        "library(lubridate)\n",
        "\n",
        "# Ler o arquivo CSV a partir da linha 12\n",
        "dados <- read.csv(\"caminho/para/seu/arquivo.csv\", sep=\";\", skip=10)\n",
        "\n",
        "# Convertendo a coluna de data\n",
        "dados$Data <- as.Date(dados$Data.Medicao, format=\"%Y-%m-%d\")\n",
        "\n",
        "# Selecionando as colunas necessárias\n",
        "dados <- dados %>%\n",
        "  select(Data, Temperatura.Maxima = TEMPERATURA.MAXIMA..DIARIA...C.,\n",
        "               Temperatura.Minima = TEMPERATURA.MINIMA..DIARIA...C.)\n"
      ]
    }
  ]
}